{
 "cells": [
  {
   "metadata": {
    "ExecuteTime": {
     "end_time": "2024-04-23T01:19:23.525152Z",
     "start_time": "2024-04-23T01:19:22.528504Z"
    }
   },
   "cell_type": "code",
   "source": [
    "from bs4 import BeautifulSoup\n",
    "import pandas as pd"
   ],
   "id": "22e96941325e8520",
   "outputs": [],
   "execution_count": 1
  },
  {
   "metadata": {
    "ExecuteTime": {
     "end_time": "2024-04-23T01:29:24.234273Z",
     "start_time": "2024-04-23T01:29:24.146709Z"
    }
   },
   "cell_type": "code",
   "source": [
    "# Load data using the correct delimiter\n",
    "df = pd.read_csv('lilac_schedule.csv', delimiter=';')\n",
    "\n",
    "# Verify and select the correct columns\n",
    "columns_to_keep = ['Time (EST)', 'Location', 'Event', 'Speaker']\n",
    "df = df[columns_to_keep]\n",
    "\n",
    "# Replace NaNs with '--'\n",
    "df.fillna('--', inplace=True)\n",
    "\n",
    "# Convert DataFrame to HTML\n",
    "html_table = df.to_html(index=False, border=0, escape=False, classes='schedule-table')\n",
    "\n",
    "# Parse the HTML with BeautifulSoup\n",
    "soup = BeautifulSoup(html_table, 'html.parser')\n",
    "\n",
    "# Find rows containing days of the week\n",
    "days_of_week = ['Monday, May 6', 'Tuesday, May 7', 'Wednesday, May 8', 'Thursday, May 9', 'Friday, May 10']\n",
    "for day in days_of_week:\n",
    "    for row in soup.find_all('tr'):\n",
    "        if day in str(row):\n",
    "            # Bold and center the day row and merge all its columns into one\n",
    "            row_td = row.find_all('td')\n",
    "            if row_td:\n",
    "                merged_content = f'<td colspan=\"{len(row_td)}\" style=\"text-align: center; font-weight: bold;\">{day}</td>'\n",
    "                row.clear()  # Clear existing td elements\n",
    "                row.append(BeautifulSoup(merged_content, 'html.parser'))\n",
    "\n",
    "# Re-convert to HTML\n",
    "html_table = str(soup)\n",
    "\n",
    "# Build the HTML content for your participants page with the table\n",
    "html_content = f\"\"\"---\n",
    "layout: default\n",
    "title: Schedule\n",
    "order: 2\n",
    "---\n",
    "\n",
    "# Schedule\n",
    "\n",
    "- The meeting is intended to be centered on discussion and hands-on work.\n",
    "- All times are in EST and the in-person location is Pratt unless otherwise marked.\n",
    "- The Zoom link will be shared with the participants.\n",
    "\n",
    "[Here is the schedule and slides for flash talks.](https://docs.google.com/presentation/d/1odfo0UHaLei6cYr-or-fq1fBINV75oakTbvppaN3BgI/edit?usp=sharing)\n",
    "\n",
    "{html_table}\n",
    "\"\"\"\n",
    "\n",
    "# Write the HTML content to a file\n",
    "with open('lilac_schedule.html', 'w') as file:\n",
    "    file.write(html_content)\n"
   ],
   "id": "8830d5930c3f383b",
   "outputs": [],
   "execution_count": 4
  },
  {
   "metadata": {},
   "cell_type": "code",
   "source": "",
   "id": "ad7de2b41f5fc4b1",
   "outputs": [],
   "execution_count": null
  }
 ],
 "metadata": {
  "kernelspec": {
   "display_name": "Python 3",
   "language": "python",
   "name": "python3"
  },
  "language_info": {
   "codemirror_mode": {
    "name": "ipython",
    "version": 2
   },
   "file_extension": ".py",
   "mimetype": "text/x-python",
   "name": "python",
   "nbconvert_exporter": "python",
   "pygments_lexer": "ipython2",
   "version": "2.7.6"
  }
 },
 "nbformat": 4,
 "nbformat_minor": 5
}
