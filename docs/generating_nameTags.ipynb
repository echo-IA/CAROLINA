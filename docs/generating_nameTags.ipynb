{
 "cells": [
  {
   "cell_type": "code",
   "execution_count": 1,
   "metadata": {},
   "outputs": [],
   "source": [
    "import pandas as pd\n",
    "import matplotlib.pyplot as plt\n",
    "import numpy as np"
   ]
  },
  {
   "cell_type": "code",
   "execution_count": 5,
   "metadata": {},
   "outputs": [
    {
     "data": {
      "text/plain": [
       "Index(['Email Address', 'First and last name', 'Academic Position',\n",
       "       'Mark the days you will be participating in [In-person]',\n",
       "       'Mark the days you will be participating in [Virtually]',\n",
       "       'For in-person attendees: List any dietary restrictions here',\n",
       "       'Which Collaboration(s) are you part of?', 'Affiliation', 'Unnamed: 8',\n",
       "       'Unnamed: 9', 'Unnamed: 10', 'Unnamed: 11', 'Unnamed: 12',\n",
       "       'Unnamed: 13', 'Unnamed: 14', 'Unnamed: 15', 'Unnamed: 16',\n",
       "       'Unnamed: 17', 'Unnamed: 18', 'Unnamed: 19'],\n",
       "      dtype='object')"
      ]
     },
     "execution_count": 5,
     "metadata": {},
     "output_type": "execute_result"
    }
   ],
   "source": [
    "info = pd.read_csv('LILAC_inperson.csv')\n",
    "info.columns"
   ]
  },
  {
   "cell_type": "code",
   "execution_count": 34,
   "metadata": {},
   "outputs": [],
   "source": [
    "# Define a function to generate LaTeX code for each name tag\n",
    "def generate_latex_code(row):\n",
    "    name = row['First and last name']\n",
    "    if len(name) >= 22:\n",
    "        name_font = \"\\\\LARGE\"\n",
    "    elif len(name) > 16:\n",
    "        name_font = \"\\\\huge\"\n",
    "    else:\n",
    "        name_font = \"\\\\Huge\"\n",
    "    return f\"\"\"\n",
    "    \\\\begin{{minipage}}[t][2in][c]{{.45\\\\textwidth}}\n",
    "    \\\\centering\n",
    "    \\\\includegraphics[width=0.1\\\\textwidth]{{IALilac.png}}\\\\\\\\\n",
    "    {name_font} \\\\textbf{{{name}}}\\\\\\\\\n",
    "    \\\\vspace{{0.3cm}}\n",
    "    \\\\Large \\\\textit{{{row['Affiliation']}}} \\\\\\\\\n",
    "    \\\\vspace{{0.5cm}}\n",
    "    \\\\small {row['Which Collaboration(s) are you part of?']}\n",
    "    \\\\end{{minipage}}\n",
    "    \\\\vspace{{1cm}}\n",
    "    \"\"\"\n",
    "\n",
    "# Loop over the DataFrame, generating LaTeX code for each participant\n",
    "latex_code = \"\\\\documentclass[10pt,letterpaper]{article}\\n\\\\usepackage[utf8]{inputenc}\\n\\\\usepackage{multicol}\\n\\\\usepackage[left=1cm, right=1cm, top=1cm]{geometry}\\n\\\\usepackage{graphicx}\\n\\\\begin{document}\\n\\\\begin{multicols}{2}\\n\"\n",
    "for i, row in info.iterrows():\n",
    "    latex_code += generate_latex_code(row)\n",
    "    if (i + 1) % 8 == 0:  # Start a new page after every 8 name tags\n",
    "        latex_code += \"\\n\\\\end{multicols}\\n\\\\newpage\\n\\\\begin{multicols}{2}\\n\"\n",
    "latex_code += \"\\n\\\\end{multicols}\\n\\\\end{document}\"\n",
    "\n",
    "# Write the LaTeX code to a .tex file\n",
    "with open('name_tags.tex', 'w') as f:\n",
    "    f.write(latex_code)"
   ]
  },
  {
   "cell_type": "code",
   "execution_count": null,
   "metadata": {},
   "outputs": [],
   "source": []
  }
 ],
 "metadata": {
  "kernelspec": {
   "display_name": "base",
   "language": "python",
   "name": "python3"
  },
  "language_info": {
   "codemirror_mode": {
    "name": "ipython",
    "version": 3
   },
   "file_extension": ".py",
   "mimetype": "text/x-python",
   "name": "python",
   "nbconvert_exporter": "python",
   "pygments_lexer": "ipython3",
   "version": "3.9.7"
  }
 },
 "nbformat": 4,
 "nbformat_minor": 2
}
